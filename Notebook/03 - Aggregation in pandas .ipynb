{
 "cells": [
  {
   "cell_type": "code",
   "execution_count": null,
   "id": "79cdb044",
   "metadata": {},
   "outputs": [],
   "source": [
    "import pandas as pd\n",
    "\n",
    "\n",
    "df = pd.read_csv(r'C:\\Users\\there\\notebook\\csv files\\covid_19_india.csv')\n",
    "df.rename(columns = {'State/UnionTerritory': 'State'}, inplace =True)\n",
    "df"
   ]
  },
  {
   "cell_type": "code",
   "execution_count": null,
   "id": "33cc7209",
   "metadata": {
    "scrolled": true
   },
   "outputs": [],
   "source": [
    "# using the groupby method to group data\n",
    "\n",
    "\n",
    "#Grouping data with multiple keys\n",
    "\n",
    "\n",
    "\n",
    "# using aggregate function on grouped dataframe\n",
    "\n",
    "\n",
    "#select the column you want to set\n",
    "\n",
    "  \n"
   ]
  },
  {
   "cell_type": "code",
   "execution_count": null,
   "id": "8c8c2d7d",
   "metadata": {},
   "outputs": [],
   "source": [
    "# select rows in a group\n"
   ]
  },
  {
   "cell_type": "code",
   "execution_count": null,
   "id": "b3d23569",
   "metadata": {},
   "outputs": [],
   "source": [
    "# show multiple aggregate function\n",
    "\n",
    "#or\n",
    "\n"
   ]
  },
  {
   "cell_type": "code",
   "execution_count": null,
   "id": "574e5a1a",
   "metadata": {},
   "outputs": [],
   "source": [
    "# Applying different functions to DataFrame columns \n",
    "\n",
    "   \n"
   ]
  },
  {
   "cell_type": "code",
   "execution_count": null,
   "id": "4cde0e06",
   "metadata": {
    "scrolled": true
   },
   "outputs": [],
   "source": [
    "#filtering the result of a grp\n"
   ]
  },
  {
   "cell_type": "code",
   "execution_count": null,
   "id": "4a4d2ec3",
   "metadata": {},
   "outputs": [],
   "source": [
    "# grouping rows in Pandas\n"
   ]
  },
  {
   "cell_type": "code",
   "execution_count": null,
   "id": "b2294f74",
   "metadata": {},
   "outputs": [],
   "source": []
  }
 ],
 "metadata": {
  "kernelspec": {
   "display_name": "Python 3 (ipykernel)",
   "language": "python",
   "name": "python3"
  },
  "language_info": {
   "codemirror_mode": {
    "name": "ipython",
    "version": 3
   },
   "file_extension": ".py",
   "mimetype": "text/x-python",
   "name": "python",
   "nbconvert_exporter": "python",
   "pygments_lexer": "ipython3",
   "version": "3.11.5"
  }
 },
 "nbformat": 4,
 "nbformat_minor": 5
}
